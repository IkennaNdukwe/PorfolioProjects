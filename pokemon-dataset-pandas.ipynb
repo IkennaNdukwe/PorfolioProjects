{
 "cells": [
  {
   "cell_type": "markdown",
   "metadata": {},
   "source": [
    "### Pandas\n",
    "\n",
    "Exploratory data analysis with Pandas on a Pokemon dataset. \n",
    "The following functions were used: \n",
    "    \n",
    "    1. read_csv()\n",
    "    2. head()\n",
    "    3. tail()\n",
    "    4. iterrows() \n",
    "    5. loc \n",
    "    6. iloc\n",
    "    7. describe()\n",
    "    8. sort_values()\n",
    "    9. drop()\n",
    "    10. to_csv(), to_excel()\n",
    "    11. statistical functions - groupby(), mean(), sum(), count()\n"
   ]
  },
  {
   "cell_type": "markdown",
   "metadata": {},
   "source": [
    "### Load data into pandas"
   ]
  },
  {
   "cell_type": "code",
   "execution_count": null,
   "metadata": {},
   "outputs": [],
   "source": [
    "import pandas as pd"
   ]
  },
  {
   "cell_type": "code",
   "execution_count": null,
   "metadata": {},
   "outputs": [],
   "source": [
    "df = pd.read_csv('C:\\\\Users\\\\ikennan\\\\Documents\\\\pokemon_data.csv')"
   ]
  },
  {
   "cell_type": "code",
   "execution_count": null,
   "metadata": {},
   "outputs": [],
   "source": [
    "df"
   ]
  },
  {
   "cell_type": "code",
   "execution_count": null,
   "metadata": {},
   "outputs": [],
   "source": [
    "#view first 3 rows \n",
    "\n",
    "df.head(3)"
   ]
  },
  {
   "cell_type": "code",
   "execution_count": null,
   "metadata": {},
   "outputs": [],
   "source": [
    "#view bottom 3 rows \n",
    "\n",
    "df.tail(3)"
   ]
  },
  {
   "cell_type": "markdown",
   "metadata": {},
   "source": [
    "### Reading data in pandas"
   ]
  },
  {
   "cell_type": "code",
   "execution_count": null,
   "metadata": {},
   "outputs": [],
   "source": [
    "# read headers \n",
    "df.columns"
   ]
  },
  {
   "cell_type": "code",
   "execution_count": null,
   "metadata": {},
   "outputs": [],
   "source": [
    "# read specific column \n",
    "df['Name'][0:10]\n",
    "\n",
    "#multiple columns \n",
    "df[['Name', 'Type 1', 'Type 2']] \n",
    "\n",
    "#read rows\n",
    "df.loc[0:5]\n",
    "\n",
    "#read specific location \n",
    "df.iloc[2,1]"
   ]
  },
  {
   "cell_type": "code",
   "execution_count": null,
   "metadata": {},
   "outputs": [],
   "source": [
    "#iterate through rows\n",
    "for index, row in df.iterrows():\n",
    "    print(index, row['Name'])"
   ]
  },
  {
   "cell_type": "code",
   "execution_count": null,
   "metadata": {},
   "outputs": [],
   "source": [
    "#filter using df.loc\n",
    "df.loc[df['Name'] == 'Pikachu']\n",
    "\n",
    "df.loc[df['Type 1'] == 'Electric']\n",
    "\n",
    "df.loc[df['Speed'] > 100]"
   ]
  },
  {
   "cell_type": "markdown",
   "metadata": {},
   "source": [
    "### Sorting/Describing Data "
   ]
  },
  {
   "cell_type": "code",
   "execution_count": null,
   "metadata": {},
   "outputs": [],
   "source": [
    "#view some basic statistical details like percentile, mean, std etc. of a data frame\n",
    "df.describe()"
   ]
  },
  {
   "cell_type": "code",
   "execution_count": null,
   "metadata": {},
   "outputs": [],
   "source": [
    "#sort values - ascending/descending \n",
    "\n",
    "df.sort_values('Name')\n",
    "df.sort_values('Defense', ascending=False) #descending order \n",
    "\n",
    "df.sort_values(['HP', 'Attack']) #sort multiple columns \n",
    "df.sort_values(['Type 1', 'HP'], ascending=[1,0])"
   ]
  },
  {
   "cell_type": "markdown",
   "metadata": {},
   "source": [
    "### Making changes to data"
   ]
  },
  {
   "cell_type": "code",
   "execution_count": null,
   "metadata": {},
   "outputs": [],
   "source": [
    "#view headers\n",
    "df.columns"
   ]
  },
  {
   "cell_type": "code",
   "execution_count": null,
   "metadata": {},
   "outputs": [],
   "source": [
    "#add columns - method 1\n",
    "df['Total'] = df['HP'] + df['Attack'] + df['Defense'] + df['HP'] + df['Sp. Atk'] + df['Sp. Def']\n",
    "df.head(10)"
   ]
  },
  {
   "cell_type": "code",
   "execution_count": null,
   "metadata": {},
   "outputs": [],
   "source": [
    "#drop column(s)\n",
    "df = df.drop(columns=['Total'])\n",
    "df"
   ]
  },
  {
   "cell_type": "code",
   "execution_count": null,
   "metadata": {},
   "outputs": [],
   "source": [
    "#add column - method 2 \n",
    "\n",
    "df['Total'] = df.iloc[:, 4:10].sum(axis=1)\n",
    "df"
   ]
  },
  {
   "cell_type": "code",
   "execution_count": null,
   "metadata": {},
   "outputs": [],
   "source": [
    "#rearrange columns \n",
    "cols = list(df.columns.values)\n",
    "df = df[cols[0:4] + [cols[-1]] + cols[4:12]]\n",
    "df.head(10)\n",
    "\n",
    "#sort by total strength \n",
    "df.sort_values('Total', ascending=False)\n"
   ]
  },
  {
   "cell_type": "markdown",
   "metadata": {},
   "source": [
    "### Exporting Data "
   ]
  },
  {
   "cell_type": "code",
   "execution_count": null,
   "metadata": {},
   "outputs": [],
   "source": [
    "df.to_csv('C:\\\\Users\\\\ikennan\\\\Documents\\\\pokemon_data_m.csv', index=False)"
   ]
  },
  {
   "cell_type": "markdown",
   "metadata": {},
   "source": [
    "### Filtering data "
   ]
  },
  {
   "cell_type": "code",
   "execution_count": null,
   "metadata": {},
   "outputs": [],
   "source": [
    "df.loc[(df['Type 1'] == 'Grass') & (df['Type 2'] == 'Poison')] #and \n",
    "\n",
    "df.loc[(df['Type 1'] == 'Fire') | (df['Type 2'] == 'Water')] #or \n",
    "\n",
    "new_df = df.loc[(df['Type 1'] == 'Fire') | (df['Type 2'] == 'Water') & (df['HP'] >= 70)] #and & or\n",
    "\n",
    "new_df.to_csv('C:\\\\Users\\\\ikennan\\\\Documents\\\\pokemon_data_filtered.csv', index=False) #export to csv\n",
    "\n",
    "# new_df = new_df.reset_index(drop=True) #reset index on new file\n",
    "\n",
    "new_df.reset_index(drop=True, inplace=True) #conserves memory \n",
    "\n",
    "new_df"
   ]
  },
  {
   "cell_type": "code",
   "execution_count": null,
   "metadata": {},
   "outputs": [],
   "source": [
    "df.loc[df['Name'].str.contains('Mega')] #filters for all occurences of 'mega' in field \n",
    "\n",
    "df.loc[~df['Name'].str.contains('Mega')] #filter for all occurences that DO NOT contain 'Mega'"
   ]
  },
  {
   "cell_type": "code",
   "execution_count": null,
   "metadata": {},
   "outputs": [],
   "source": [
    "#using regular expressions for filtering\n",
    "\n",
    "import re\n",
    "\n",
    "df.loc[df['Type 1'].str.contains('Fire|Grass', regex=True)]\n",
    "#df.loc[df['Type 1'].str.contains('fire|grass', flags=re.I, regex=True)] #ignores casing"
   ]
  },
  {
   "cell_type": "code",
   "execution_count": null,
   "metadata": {},
   "outputs": [],
   "source": [
    "#filter names starting with 'pi' using regex\n",
    "\n",
    "df.loc[df['Name'].str.contains('^pi[a-z]*', flags=re.I, regex=True)]"
   ]
  },
  {
   "cell_type": "markdown",
   "metadata": {},
   "source": [
    "### Conditional Changes"
   ]
  },
  {
   "cell_type": "code",
   "execution_count": null,
   "metadata": {},
   "outputs": [],
   "source": [
    "changed_df = df.copy(deep=True)\n",
    "\n",
    "changed_df.loc[changed_df['Type 1'] == 'Fire', 'Type 1'] = 'Flamer' #change value of a cell \n",
    "\n",
    "changed_df.loc[changed_df['Type 1'] == 'Flamer', 'Legendary'] = True\n",
    "\n",
    "changed_df"
   ]
  },
  {
   "cell_type": "code",
   "execution_count": null,
   "metadata": {},
   "outputs": [],
   "source": [
    "#modify multiple columns \n",
    "changed_df.loc[changed_df['Total'] > 500, ['Generation', 'Legendary']] = 'TEST VALUE'\n",
    "\n",
    "changed_df.loc[changed_df['Total'] > 500, ['Generation', 'Legendary']] = ['Test1', 'Test2']\n",
    "\n",
    "changed_df"
   ]
  },
  {
   "cell_type": "markdown",
   "metadata": {},
   "source": [
    "### Aggregate Statistics (Groupby)"
   ]
  },
  {
   "cell_type": "code",
   "execution_count": null,
   "metadata": {},
   "outputs": [],
   "source": [
    "df.groupby(['Type 1']).mean()\n",
    "\n",
    "df.groupby(['Type 1']).mean().sort_values('Defense', ascending=False)\n",
    "\n",
    "df.groupby(['Type 1']).sum()\n",
    "\n",
    "df.groupby(['Type 1']).count()\n",
    "\n",
    "#tidy up count \n",
    "df['Count'] = 1 \n",
    "df.groupby(['Type 1']).count()['Count']\n",
    "\n",
    "df.groupby(['Type 1', 'Type 2']).count()['Count']"
   ]
  },
  {
   "cell_type": "markdown",
   "metadata": {},
   "source": [
    "### Working with large amounts of data"
   ]
  },
  {
   "cell_type": "code",
   "execution_count": null,
   "metadata": {},
   "outputs": [],
   "source": [
    "#break large datasets into smaller, more manageable chunks \n",
    "for df in pd.read_csv('C:\\\\Users\\\\ikennan\\\\Documents\\\\pokemon_data_m.csv', chunksize=5):\n",
    "    print('Chunk DF')\n",
    "    print(df)"
   ]
  },
  {
   "cell_type": "code",
   "execution_count": null,
   "metadata": {},
   "outputs": [],
   "source": [
    "df"
   ]
  },
  {
   "cell_type": "code",
   "execution_count": null,
   "metadata": {},
   "outputs": [],
   "source": []
  }
 ],
 "metadata": {
  "kernelspec": {
   "display_name": "Python 3",
   "language": "python",
   "name": "python3"
  },
  "language_info": {
   "codemirror_mode": {
    "name": "ipython",
    "version": 3
   },
   "file_extension": ".py",
   "mimetype": "text/x-python",
   "name": "python",
   "nbconvert_exporter": "python",
   "pygments_lexer": "ipython3",
   "version": "3.7.6"
  }
 },
 "nbformat": 4,
 "nbformat_minor": 4
}
